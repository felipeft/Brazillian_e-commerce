{
 "cells": [
  {
   "cell_type": "markdown",
   "id": "a319011b",
   "metadata": {},
   "source": [
    "Criação de um modelo supervisionado de classificação para prever se um pedido será entregue no prazo\n",
    "para isso, precisa ser feito a classificação de pedidos entregues no prazo vs atrasados"
   ]
  },
  {
   "cell_type": "markdown",
   "id": "8fde3cf0",
   "metadata": {},
   "source": [
    "## Importações"
   ]
  },
  {
   "cell_type": "code",
   "execution_count": 13,
   "id": "4799031f",
   "metadata": {},
   "outputs": [],
   "source": [
    "# Importar bibliotecas principais para análise e modelagem\n",
    "import pandas as pd\n",
    "import numpy as np\n",
    "\n",
    "# Visualização\n",
    "import matplotlib.pyplot as plt\n",
    "import seaborn as sns\n",
    "\n",
    "# Machine Learning\n",
    "from sklearn.model_selection import train_test_split\n",
    "from sklearn.preprocessing import StandardScaler, OneHotEncoder\n",
    "from sklearn.compose import ColumnTransformer\n",
    "from sklearn.pipeline import Pipeline\n",
    "from sklearn.linear_model import LogisticRegression\n",
    "from sklearn.metrics import classification_report, confusion_matrix, roc_auc_score\n"
   ]
  },
  {
   "cell_type": "markdown",
   "id": "c9de99dc",
   "metadata": {},
   "source": [
    "## Carregando o dataset"
   ]
  },
  {
   "cell_type": "code",
   "execution_count": 14,
   "id": "d4891889",
   "metadata": {},
   "outputs": [
    {
     "data": {
      "text/html": [
       "<div>\n",
       "<style scoped>\n",
       "    .dataframe tbody tr th:only-of-type {\n",
       "        vertical-align: middle;\n",
       "    }\n",
       "\n",
       "    .dataframe tbody tr th {\n",
       "        vertical-align: top;\n",
       "    }\n",
       "\n",
       "    .dataframe thead th {\n",
       "        text-align: right;\n",
       "    }\n",
       "</style>\n",
       "<table border=\"1\" class=\"dataframe\">\n",
       "  <thead>\n",
       "    <tr style=\"text-align: right;\">\n",
       "      <th></th>\n",
       "      <th>order_id</th>\n",
       "      <th>customer_id</th>\n",
       "      <th>order_status</th>\n",
       "      <th>order_purchase_timestamp</th>\n",
       "      <th>order_approved_at</th>\n",
       "      <th>order_delivered_carrier_date</th>\n",
       "      <th>order_delivered_customer_date</th>\n",
       "      <th>order_estimated_delivery_date</th>\n",
       "      <th>customer_unique_id</th>\n",
       "      <th>customer_zip_code_prefix</th>\n",
       "      <th>...</th>\n",
       "      <th>product_height_cm</th>\n",
       "      <th>product_width_cm</th>\n",
       "      <th>seller_zip_code_prefix</th>\n",
       "      <th>seller_city</th>\n",
       "      <th>seller_state</th>\n",
       "      <th>product_category_name_english</th>\n",
       "      <th>delivery_time_days</th>\n",
       "      <th>estimated_time_days</th>\n",
       "      <th>delay</th>\n",
       "      <th>total_price</th>\n",
       "    </tr>\n",
       "  </thead>\n",
       "  <tbody>\n",
       "    <tr>\n",
       "      <th>0</th>\n",
       "      <td>e481f51cbdc54678b7cc49136f2d6af7</td>\n",
       "      <td>9ef432eb6251297304e76186b10a928d</td>\n",
       "      <td>delivered</td>\n",
       "      <td>2017-10-02 10:56:33</td>\n",
       "      <td>2017-10-02 11:07:15</td>\n",
       "      <td>2017-10-04 19:55:00</td>\n",
       "      <td>2017-10-10 21:25:13</td>\n",
       "      <td>2017-10-18</td>\n",
       "      <td>7c396fd4830fd04220f754e42b4e5bff</td>\n",
       "      <td>3149</td>\n",
       "      <td>...</td>\n",
       "      <td>8.0</td>\n",
       "      <td>13.0</td>\n",
       "      <td>9350.0</td>\n",
       "      <td>maua</td>\n",
       "      <td>SP</td>\n",
       "      <td>housewares</td>\n",
       "      <td>8.0</td>\n",
       "      <td>15</td>\n",
       "      <td>0</td>\n",
       "      <td>38.71</td>\n",
       "    </tr>\n",
       "    <tr>\n",
       "      <th>1</th>\n",
       "      <td>e481f51cbdc54678b7cc49136f2d6af7</td>\n",
       "      <td>9ef432eb6251297304e76186b10a928d</td>\n",
       "      <td>delivered</td>\n",
       "      <td>2017-10-02 10:56:33</td>\n",
       "      <td>2017-10-02 11:07:15</td>\n",
       "      <td>2017-10-04 19:55:00</td>\n",
       "      <td>2017-10-10 21:25:13</td>\n",
       "      <td>2017-10-18</td>\n",
       "      <td>7c396fd4830fd04220f754e42b4e5bff</td>\n",
       "      <td>3149</td>\n",
       "      <td>...</td>\n",
       "      <td>8.0</td>\n",
       "      <td>13.0</td>\n",
       "      <td>9350.0</td>\n",
       "      <td>maua</td>\n",
       "      <td>SP</td>\n",
       "      <td>housewares</td>\n",
       "      <td>8.0</td>\n",
       "      <td>15</td>\n",
       "      <td>0</td>\n",
       "      <td>38.71</td>\n",
       "    </tr>\n",
       "    <tr>\n",
       "      <th>2</th>\n",
       "      <td>e481f51cbdc54678b7cc49136f2d6af7</td>\n",
       "      <td>9ef432eb6251297304e76186b10a928d</td>\n",
       "      <td>delivered</td>\n",
       "      <td>2017-10-02 10:56:33</td>\n",
       "      <td>2017-10-02 11:07:15</td>\n",
       "      <td>2017-10-04 19:55:00</td>\n",
       "      <td>2017-10-10 21:25:13</td>\n",
       "      <td>2017-10-18</td>\n",
       "      <td>7c396fd4830fd04220f754e42b4e5bff</td>\n",
       "      <td>3149</td>\n",
       "      <td>...</td>\n",
       "      <td>8.0</td>\n",
       "      <td>13.0</td>\n",
       "      <td>9350.0</td>\n",
       "      <td>maua</td>\n",
       "      <td>SP</td>\n",
       "      <td>housewares</td>\n",
       "      <td>8.0</td>\n",
       "      <td>15</td>\n",
       "      <td>0</td>\n",
       "      <td>38.71</td>\n",
       "    </tr>\n",
       "    <tr>\n",
       "      <th>3</th>\n",
       "      <td>53cdb2fc8bc7dce0b6741e2150273451</td>\n",
       "      <td>b0830fb4747a6c6d20dea0b8c802d7ef</td>\n",
       "      <td>delivered</td>\n",
       "      <td>2018-07-24 20:41:37</td>\n",
       "      <td>2018-07-26 03:24:27</td>\n",
       "      <td>2018-07-26 14:31:00</td>\n",
       "      <td>2018-08-07 15:27:45</td>\n",
       "      <td>2018-08-13</td>\n",
       "      <td>af07308b275d755c9edb36a90c618231</td>\n",
       "      <td>47813</td>\n",
       "      <td>...</td>\n",
       "      <td>13.0</td>\n",
       "      <td>19.0</td>\n",
       "      <td>31570.0</td>\n",
       "      <td>belo horizonte</td>\n",
       "      <td>SP</td>\n",
       "      <td>perfumery</td>\n",
       "      <td>13.0</td>\n",
       "      <td>19</td>\n",
       "      <td>0</td>\n",
       "      <td>141.46</td>\n",
       "    </tr>\n",
       "    <tr>\n",
       "      <th>4</th>\n",
       "      <td>47770eb9100c2d0c44946d9cf07ec65d</td>\n",
       "      <td>41ce2a54c0b03bf3443c3d931a367089</td>\n",
       "      <td>delivered</td>\n",
       "      <td>2018-08-08 08:38:49</td>\n",
       "      <td>2018-08-08 08:55:23</td>\n",
       "      <td>2018-08-08 13:50:00</td>\n",
       "      <td>2018-08-17 18:06:29</td>\n",
       "      <td>2018-09-04</td>\n",
       "      <td>3a653a41f6f9fc3d2a113cf8398680e8</td>\n",
       "      <td>75265</td>\n",
       "      <td>...</td>\n",
       "      <td>19.0</td>\n",
       "      <td>21.0</td>\n",
       "      <td>14840.0</td>\n",
       "      <td>guariba</td>\n",
       "      <td>SP</td>\n",
       "      <td>auto</td>\n",
       "      <td>9.0</td>\n",
       "      <td>26</td>\n",
       "      <td>0</td>\n",
       "      <td>179.12</td>\n",
       "    </tr>\n",
       "  </tbody>\n",
       "</table>\n",
       "<p>5 rows × 39 columns</p>\n",
       "</div>"
      ],
      "text/plain": [
       "                           order_id                       customer_id  \\\n",
       "0  e481f51cbdc54678b7cc49136f2d6af7  9ef432eb6251297304e76186b10a928d   \n",
       "1  e481f51cbdc54678b7cc49136f2d6af7  9ef432eb6251297304e76186b10a928d   \n",
       "2  e481f51cbdc54678b7cc49136f2d6af7  9ef432eb6251297304e76186b10a928d   \n",
       "3  53cdb2fc8bc7dce0b6741e2150273451  b0830fb4747a6c6d20dea0b8c802d7ef   \n",
       "4  47770eb9100c2d0c44946d9cf07ec65d  41ce2a54c0b03bf3443c3d931a367089   \n",
       "\n",
       "  order_status order_purchase_timestamp   order_approved_at  \\\n",
       "0    delivered      2017-10-02 10:56:33 2017-10-02 11:07:15   \n",
       "1    delivered      2017-10-02 10:56:33 2017-10-02 11:07:15   \n",
       "2    delivered      2017-10-02 10:56:33 2017-10-02 11:07:15   \n",
       "3    delivered      2018-07-24 20:41:37 2018-07-26 03:24:27   \n",
       "4    delivered      2018-08-08 08:38:49 2018-08-08 08:55:23   \n",
       "\n",
       "  order_delivered_carrier_date order_delivered_customer_date  \\\n",
       "0          2017-10-04 19:55:00           2017-10-10 21:25:13   \n",
       "1          2017-10-04 19:55:00           2017-10-10 21:25:13   \n",
       "2          2017-10-04 19:55:00           2017-10-10 21:25:13   \n",
       "3          2018-07-26 14:31:00           2018-08-07 15:27:45   \n",
       "4          2018-08-08 13:50:00           2018-08-17 18:06:29   \n",
       "\n",
       "  order_estimated_delivery_date                customer_unique_id  \\\n",
       "0                    2017-10-18  7c396fd4830fd04220f754e42b4e5bff   \n",
       "1                    2017-10-18  7c396fd4830fd04220f754e42b4e5bff   \n",
       "2                    2017-10-18  7c396fd4830fd04220f754e42b4e5bff   \n",
       "3                    2018-08-13  af07308b275d755c9edb36a90c618231   \n",
       "4                    2018-09-04  3a653a41f6f9fc3d2a113cf8398680e8   \n",
       "\n",
       "   customer_zip_code_prefix  ... product_height_cm product_width_cm  \\\n",
       "0                      3149  ...               8.0             13.0   \n",
       "1                      3149  ...               8.0             13.0   \n",
       "2                      3149  ...               8.0             13.0   \n",
       "3                     47813  ...              13.0             19.0   \n",
       "4                     75265  ...              19.0             21.0   \n",
       "\n",
       "   seller_zip_code_prefix     seller_city seller_state  \\\n",
       "0                  9350.0            maua           SP   \n",
       "1                  9350.0            maua           SP   \n",
       "2                  9350.0            maua           SP   \n",
       "3                 31570.0  belo horizonte           SP   \n",
       "4                 14840.0         guariba           SP   \n",
       "\n",
       "  product_category_name_english  delivery_time_days  estimated_time_days  \\\n",
       "0                    housewares                 8.0                   15   \n",
       "1                    housewares                 8.0                   15   \n",
       "2                    housewares                 8.0                   15   \n",
       "3                     perfumery                13.0                   19   \n",
       "4                          auto                 9.0                   26   \n",
       "\n",
       "   delay total_price  \n",
       "0      0       38.71  \n",
       "1      0       38.71  \n",
       "2      0       38.71  \n",
       "3      0      141.46  \n",
       "4      0      179.12  \n",
       "\n",
       "[5 rows x 39 columns]"
      ]
     },
     "execution_count": 14,
     "metadata": {},
     "output_type": "execute_result"
    }
   ],
   "source": [
    "# Carregar a tabela consolidada criada no ETL\n",
    "df = pd.read_parquet(\"/home/felipe/Desktop/Projetos Free ml/Brazilian_E-Commerce/data/processed/orders_table.parquet\")\n",
    "\n",
    "# Visualizar primeiras linhas\n",
    "df.head()\n"
   ]
  },
  {
   "cell_type": "markdown",
   "id": "b5911fb6",
   "metadata": {},
   "source": [
    "## Seleção de features e target\n",
    "\n",
    "Não selecionamos todas as features por enquanto, mas podemos ir adicionando mais\n",
    "essas são as mais relevantes até então"
   ]
  },
  {
   "cell_type": "code",
   "execution_count": 15,
   "id": "d065a54c",
   "metadata": {},
   "outputs": [],
   "source": [
    "# Definir target (variável que queremos prever)\n",
    "y = df[\"delay\"]\n",
    "\n",
    "# Features selecionadas (ajustaremos depois se necessário)\n",
    "features = [\n",
    "    \"total_price\", \"freight_value\", \"payment_type\", \"payment_installments\", \n",
    "    \"review_score\", \"product_category_name_english\", \n",
    "    \"product_weight_g\", \"product_length_cm\", \"product_height_cm\", \"product_width_cm\",\n",
    "    \"customer_state\", \"delivery_time_days\", \"estimated_time_days\"\n",
    "]\n",
    "\n",
    "X = df[features]\n"
   ]
  },
  {
   "cell_type": "markdown",
   "id": "bf7e197a",
   "metadata": {},
   "source": [
    "## Divisão em treino e teste"
   ]
  },
  {
   "cell_type": "code",
   "execution_count": 16,
   "id": "ffbfbc0c",
   "metadata": {},
   "outputs": [
    {
     "name": "stdout",
     "output_type": "stream",
     "text": [
      "Tamanho treino: (95314, 13)\n",
      "Tamanho teste: (23829, 13)\n"
     ]
    }
   ],
   "source": [
    "# Dividir os dados em treino e teste (80/20)\n",
    "X_train, X_test, y_train, y_test = train_test_split(\n",
    "    X, y, test_size=0.2, random_state=42, stratify=y\n",
    ")\n",
    "\n",
    "print(\"Tamanho treino:\", X_train.shape)\n",
    "print(\"Tamanho teste:\", X_test.shape)\n"
   ]
  },
  {
   "cell_type": "markdown",
   "id": "7784c0b8",
   "metadata": {},
   "source": [
    "## Variaveis categóricas e numéricas"
   ]
  },
  {
   "cell_type": "code",
   "execution_count": 17,
   "id": "a5f5df91",
   "metadata": {},
   "outputs": [
    {
     "name": "stdout",
     "output_type": "stream",
     "text": [
      "<class 'pandas.core.frame.DataFrame'>\n",
      "RangeIndex: 119143 entries, 0 to 119142\n",
      "Data columns (total 13 columns):\n",
      " #   Column                         Non-Null Count   Dtype  \n",
      "---  ------                         --------------   -----  \n",
      " 0   total_price                    118310 non-null  float64\n",
      " 1   freight_value                  118310 non-null  float64\n",
      " 2   payment_type                   119140 non-null  object \n",
      " 3   payment_installments           119140 non-null  float64\n",
      " 4   review_score                   118146 non-null  float64\n",
      " 5   product_category_name_english  116576 non-null  object \n",
      " 6   product_weight_g               118290 non-null  float64\n",
      " 7   product_length_cm              118290 non-null  float64\n",
      " 8   product_height_cm              118290 non-null  float64\n",
      " 9   product_width_cm               118290 non-null  float64\n",
      " 10  customer_state                 119143 non-null  object \n",
      " 11  delivery_time_days             115722 non-null  float64\n",
      " 12  estimated_time_days            119143 non-null  int64  \n",
      "dtypes: float64(9), int64(1), object(3)\n",
      "memory usage: 11.8+ MB\n"
     ]
    }
   ],
   "source": [
    "X.info()"
   ]
  },
  {
   "cell_type": "markdown",
   "id": "36cd24e9",
   "metadata": {},
   "source": [
    "verificando se há valores faltantes para não atraplhar a normalização e treinamento"
   ]
  },
  {
   "cell_type": "code",
   "execution_count": 26,
   "id": "b01da359",
   "metadata": {},
   "outputs": [
    {
     "data": {
      "text/plain": [
       "delivery_time_days               3421\n",
       "product_category_name_english    2567\n",
       "review_score                      997\n",
       "product_weight_g                  853\n",
       "product_length_cm                 853\n",
       "product_height_cm                 853\n",
       "product_width_cm                  853\n",
       "total_price                       833\n",
       "freight_value                     833\n",
       "payment_type                        3\n",
       "payment_installments                3\n",
       "customer_state                      0\n",
       "estimated_time_days                 0\n",
       "dtype: int64"
      ]
     },
     "execution_count": 26,
     "metadata": {},
     "output_type": "execute_result"
    }
   ],
   "source": [
    "X.isnull().sum().sort_values(ascending=False)\n"
   ]
  },
  {
   "cell_type": "markdown",
   "id": "16ae1b04",
   "metadata": {},
   "source": [
    "Como existem valores faltantes, irei trata-los de forma rudimentar, com a média para colunas numéricas e o \"mais frequente\" nas categórias"
   ]
  },
  {
   "cell_type": "code",
   "execution_count": 27,
   "id": "6b0b70c2",
   "metadata": {},
   "outputs": [],
   "source": [
    "from sklearn.impute import SimpleImputer\n",
    "\n",
    "# 1. Tratar valores faltantes nas colunas numéricas\n",
    "imputer_numeric = SimpleImputer(strategy='median')\n",
    "X_train[numeric] = imputer_numeric.fit_transform(X_train[numeric])\n",
    "X_test[numeric] = imputer_numeric.transform(X_test[numeric])\n",
    "\n",
    "# 2. Tratar valores faltantes nas colunas categóricas\n",
    "imputer_categorical = SimpleImputer(strategy='most_frequent')\n",
    "X_train[categorical] = imputer_categorical.fit_transform(X_train[categorical])\n",
    "X_test[categorical] = imputer_categorical.transform(X_test[categorical])"
   ]
  },
  {
   "cell_type": "markdown",
   "id": "c6d2085b",
   "metadata": {},
   "source": [
    "Pré processamento com pipeline e normalização "
   ]
  },
  {
   "cell_type": "code",
   "execution_count": 28,
   "id": "1c7a56b1",
   "metadata": {},
   "outputs": [],
   "source": [
    "# Identificar colunas categóricas e numéricas\n",
    "categorical = [\"payment_type\", \"product_category_name_english\", \"customer_state\"]\n",
    "numeric = [col for col in X.columns if col not in categorical]\n",
    "\n",
    "# Transformações\n",
    "preprocessor = ColumnTransformer(\n",
    "    transformers=[\n",
    "        (\"num\", StandardScaler(), numeric),           # Normaliza numéricos\n",
    "        (\"cat\", OneHotEncoder(handle_unknown=\"ignore\"), categorical)  # Codifica categóricos\n",
    "    ]\n",
    ")\n"
   ]
  },
  {
   "cell_type": "markdown",
   "id": "d64c7de7",
   "metadata": {},
   "source": [
    "## Modelo baseline"
   ]
  },
  {
   "cell_type": "code",
   "execution_count": 29,
   "id": "c2af0050",
   "metadata": {},
   "outputs": [],
   "source": [
    "# Pipeline com pré-processamento + modelo\n",
    "model = Pipeline(steps=[\n",
    "    (\"preprocessor\", preprocessor),\n",
    "    (\"classifier\", LogisticRegression(max_iter=1000))\n",
    "])\n",
    "\n",
    "# Treinar modelo\n",
    "model.fit(X_train, y_train)\n",
    "\n",
    "# Previsões\n",
    "y_pred = model.predict(X_test)\n",
    "y_proba = model.predict_proba(X_test)[:,1]\n"
   ]
  },
  {
   "cell_type": "markdown",
   "id": "ed49f7a4",
   "metadata": {},
   "source": [
    "## Relatório das métricas\n",
    "\n",
    "métricas:\n",
    "    - Precision\n",
    "    - Recall\n",
    "    - F1"
   ]
  },
  {
   "cell_type": "code",
   "execution_count": 30,
   "id": "92c77611",
   "metadata": {},
   "outputs": [
    {
     "name": "stdout",
     "output_type": "stream",
     "text": [
      "              precision    recall  f1-score   support\n",
      "\n",
      "           0       1.00      1.00      1.00     22135\n",
      "           1       0.98      0.98      0.98      1694\n",
      "\n",
      "    accuracy                           1.00     23829\n",
      "   macro avg       0.99      0.99      0.99     23829\n",
      "weighted avg       1.00      1.00      1.00     23829\n",
      "\n",
      "ROC AUC: 0.9996483689627005\n"
     ]
    },
    {
     "data": {
      "image/png": "[encoded data removed]",
      "text/plain": [
       "<Figure size 640x480 with 2 Axes>"
      ]
     },
     "metadata": {},
     "output_type": "display_data"
    }
   ],
   "source": [
    "# Relatório de métricas\n",
    "print(classification_report(y_test, y_pred))\n",
    "\n",
    "# AUC\n",
    "print(\"ROC AUC:\", roc_auc_score(y_test, y_proba))\n",
    "\n",
    "# Matriz de confusão\n",
    "sns.heatmap(confusion_matrix(y_test, y_pred), annot=True, fmt=\"d\", cmap=\"Blues\")\n",
    "plt.xlabel(\"Predito\")\n",
    "plt.ylabel(\"Real\")\n",
    "plt.show()\n"
   ]
  }
 ],
 "metadata": {
  "kernelspec": {
   "display_name": "base",
   "language": "python",
   "name": "python3"
  },
  "language_info": {
   "codemirror_mode": {
    "name": "ipython",
    "version": 3
   },
   "file_extension": ".py",
   "mimetype": "text/x-python",
   "name": "python",
   "nbconvert_exporter": "python",
   "pygments_lexer": "ipython3",
   "version": "3.12.7"
  }
 },
 "nbformat": 4,
 "nbformat_minor": 5
}
